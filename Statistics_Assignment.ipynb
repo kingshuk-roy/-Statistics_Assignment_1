{
  "nbformat": 4,
  "nbformat_minor": 0,
  "metadata": {
    "colab": {
      "provenance": []
    },
    "kernelspec": {
      "name": "python3",
      "display_name": "Python 3"
    },
    "language_info": {
      "name": "python"
    }
  },
  "cells": [
    {
      "cell_type": "code",
      "execution_count": 1,
      "metadata": {
        "colab": {
          "base_uri": "https://localhost:8080/",
          "height": 53
        },
        "id": "F0t71eYR6J12",
        "outputId": "592bf9b3-8803-41b8-c9bb-b936df086758"
      },
      "outputs": [
        {
          "output_type": "execute_result",
          "data": {
            "text/plain": [
              "'\\nStatistics is the study of the collection, analysis, interpretation, presentation, and organization of data.\\nIn other words, it is a mathematical discipline to collect, summarize data.\\nAlso, we can say that statistics is a branch of applied mathematics.'"
            ],
            "application/vnd.google.colaboratory.intrinsic+json": {
              "type": "string"
            }
          },
          "metadata": {},
          "execution_count": 1
        }
      ],
      "source": [
        "# Q1. What is Statistics?\n",
        "\n",
        "# ANS\n",
        "'''\n",
        "Statistics is the study of the collection, analysis, interpretation, presentation, and organization of data.\n",
        "In other words, it is a mathematical discipline to collect, summarize data.\n",
        "Also, we can say that statistics is a branch of applied mathematics.'''"
      ]
    },
    {
      "cell_type": "code",
      "source": [
        "# Q2. Define the different types of statistics and give an example of when each type might be used.\n",
        "\n",
        "# ANS\n",
        "'''\n",
        "The two major areas of statistics are known as descriptive statistics, which describes the properties of sample and population data, and inferential statistics, which uses those properties to test hypotheses and draw conclusions. Descriptive statistics include mean (average), variance, skewness, and kurtosis.\n",
        " Inferential statistics include linear regression analysis, analysis of variance (ANOVA), logit/Probit models, and null hypothesis testing.'''"
      ],
      "metadata": {
        "id": "t3gv5t1bKDAv",
        "colab": {
          "base_uri": "https://localhost:8080/",
          "height": 70
        },
        "outputId": "9a38de75-806b-4517-be9f-c96241aca546"
      },
      "execution_count": 2,
      "outputs": [
        {
          "output_type": "execute_result",
          "data": {
            "text/plain": [
              "'\\nThe two major areas of statistics are known as descriptive statistics, which describes the properties of sample and population data, and inferential statistics, which uses those properties to test hypotheses and draw conclusions. Descriptive statistics include mean (average), variance, skewness, and kurtosis.\\n Inferential statistics include linear regression analysis, analysis of variance (ANOVA), logit/Probit models, and null hypothesis testing.'"
            ],
            "application/vnd.google.colaboratory.intrinsic+json": {
              "type": "string"
            }
          },
          "metadata": {},
          "execution_count": 2
        }
      ]
    },
    {
      "cell_type": "code",
      "source": [
        "# Q3. What are the different types of data and how do they differ from each other? Provide an example of each type of data.\n",
        "\n",
        "# ANS\n",
        "'''\n",
        "Quantitative data:\n",
        "\n",
        "1) Data is depicted in numerical terms.\n",
        "2) Can be shown in numbers and variables like ratio, percentage, and more.\n",
        "3) Example: 100%, 1:3, 123\n",
        "\n",
        "Qualitative data:\n",
        "\n",
        "1) Data is not depicted in numerical terms.\n",
        "2) Could be about the behavioral attributes of a person, or thing.\n",
        "3) Example: loud behavior, fair skin, soft quality, and more.\n",
        "'''\n"
      ],
      "metadata": {
        "id": "mbfNZRuDKnZ8",
        "colab": {
          "base_uri": "https://localhost:8080/",
          "height": 70
        },
        "outputId": "38b4371c-9659-4360-d12d-80e832f3b008"
      },
      "execution_count": 3,
      "outputs": [
        {
          "output_type": "execute_result",
          "data": {
            "text/plain": [
              "'\\nQuantitative data:\\n\\n1) Data is depicted in numerical terms.\\n2) Can be shown in numbers and variables like ratio, percentage, and more.\\n3) Example: 100%, 1:3, 123\\n\\nQualitative data:\\n\\n1) Data is not depicted in numerical terms.\\n2) Could be about the behavioral attributes of a person, or thing.\\n3) Example: loud behavior, fair skin, soft quality, and more.\\n'"
            ],
            "application/vnd.google.colaboratory.intrinsic+json": {
              "type": "string"
            }
          },
          "metadata": {},
          "execution_count": 3
        }
      ]
    },
    {
      "cell_type": "code",
      "source": [
        "# Q4. Categorise the following datasets with respect to quantitative and qualitative data types:\n",
        "'''\n",
        "(i) Grading in exam: A+, A, B+, B, C+, C, D, E\n",
        "(ii) Colour of mangoes: yellow, green, orange, red\n",
        "(iii) Height data of a class: [178.9, 179, 179.5, 176, 177.2, 178.3, 175.8,...]\n",
        "(iv) Number of mangoes exported by a farm: [500, 600, 478, 672, ...]\n",
        "'''\n",
        "# ANS\n",
        "'''\n",
        "Qualitative data:\n",
        "(i) Grading in exam: A+, A, B+, B, C+, C, D, E\n",
        "(ii) Colour of mangoes: yellow, green, orange, red\n",
        "\n",
        "Quantitative data:\n",
        "(iii) Height data of a class: [178.9, 179, 179.5, 176, 177.2, 178.3, 175.8,...]\n",
        "(iv) Number of mangoes exported by a farm: [500, 600, 478, 672, ...]\n",
        "'''\n"
      ],
      "metadata": {
        "id": "9c-pObFUMSIk",
        "colab": {
          "base_uri": "https://localhost:8080/",
          "height": 53
        },
        "outputId": "5815e6b2-f9ce-4e70-eb56-1249d6df4bcd"
      },
      "execution_count": 4,
      "outputs": [
        {
          "output_type": "execute_result",
          "data": {
            "text/plain": [
              "'\\nQualitative data:\\n(i) Grading in exam: A+, A, B+, B, C+, C, D, E\\n(ii) Colour of mangoes: yellow, green, orange, red\\n\\nQuantitative data:\\n(iii) Height data of a class: [178.9, 179, 179.5, 176, 177.2, 178.3, 175.8,...]\\n(iv) Number of mangoes exported by a farm: [500, 600, 478, 672, ...]\\n'"
            ],
            "application/vnd.google.colaboratory.intrinsic+json": {
              "type": "string"
            }
          },
          "metadata": {},
          "execution_count": 4
        }
      ]
    },
    {
      "cell_type": "code",
      "source": [
        "# Q5. Explain the concept of levels of measurement and give an example of a variable for each level.\n",
        "\n",
        "# ANS\n",
        "'''\n",
        "There are 4 levels of measurement:\n",
        "\n",
        "Nominal: the data can only be categorized\n",
        "    example-\n",
        "    City of birth\n",
        "    Gender\n",
        "    Ethnicity\n",
        "    Car brands\n",
        "    Marital status\n",
        "\n",
        "Ordinal: the data can be categorized and ranked\n",
        "    example-\n",
        "    Top 5 Olympic medallists\n",
        "    Language ability (e.g., beginner, intermediate, fluent)\n",
        "\n",
        "Interval: the data can be categorized, ranked, and evenly spaced\n",
        "    example-\n",
        "    Test scores (e.g., IQ or exams)\n",
        "    Personality inventories\n",
        "    Temperature in Fahrenheit or Celsius\n",
        "\n",
        "Ratio: the data can be categorized, ranked, evenly spaced, and has a natural zero.\n",
        "    example-\n",
        "    Height\n",
        "    Age\n",
        "    Weight\n",
        "    Temperature in Kelvin\n",
        "'''\n"
      ],
      "metadata": {
        "id": "RWi7AxYlzynO",
        "colab": {
          "base_uri": "https://localhost:8080/",
          "height": 105
        },
        "outputId": "57a82672-1aaa-4fc4-d938-2edf8635300b"
      },
      "execution_count": 5,
      "outputs": [
        {
          "output_type": "execute_result",
          "data": {
            "text/plain": [
              "'\\nThere are 4 levels of measurement:\\n\\nNominal: the data can only be categorized\\n    example-\\n    City of birth\\n    Gender\\n    Ethnicity\\n    Car brands\\n    Marital status\\n\\nOrdinal: the data can be categorized and ranked\\n    example-\\n    Top 5 Olympic medallists\\n    Language ability (e.g., beginner, intermediate, fluent)\\n\\nInterval: the data can be categorized, ranked, and evenly spaced\\n    example-\\n    Test scores (e.g., IQ or exams)\\n    Personality inventories\\n    Temperature in Fahrenheit or Celsius\\n\\nRatio: the data can be categorized, ranked, evenly spaced, and has a natural zero.\\n    example-\\n    Height\\n    Age\\n    Weight\\n    Temperature in Kelvin\\n'"
            ],
            "application/vnd.google.colaboratory.intrinsic+json": {
              "type": "string"
            }
          },
          "metadata": {},
          "execution_count": 5
        }
      ]
    },
    {
      "cell_type": "code",
      "source": [
        "# Q6. Why is it important to understand the level of measurement when analyzing data? Provide an example to illustrate your answer.\n",
        "\n",
        "# ANS\n",
        "'''\n",
        "The level at which you measure a variable determines how you can analyze your data.\n",
        "\n",
        "Depending on the level of measurement, you can perform different descriptive statistics to get an overall summary of your data and inferential statistics to see if your results support or refute your hypothesis.\n",
        "\n",
        "Nominal level example:\n",
        "We can calculate the frequency or percentage of students who prefer each color and create a bar chart to visualize the distribution of favorite colors.\n",
        "However, it would not be meaningful to calculate the average or mean of these categories.\n",
        "\n",
        "Interval level example:\n",
        "We can calculate the mean satisfaction level of the students based on their ratings (1 to 5) since the intervals between the ratings are equal.\n",
        "However, we should avoid calculating the difference between two satisfaction levels (e.g., a student with a rating of 4 is not \"twice\" as satisfied as a student with a rating of 2).\n",
        "\n",
        "Ratio level example:\n",
        "We can calculate the mean height of the students in centimeters, as well as other descriptive statistics like the median and standard deviation.\n",
        "Furthermore, we can perform more advanced analyses like correlations and regression using height as a predictor variable.'''\n"
      ],
      "metadata": {
        "id": "Gyjb8hz900ZJ",
        "colab": {
          "base_uri": "https://localhost:8080/",
          "height": 140
        },
        "outputId": "a8b461d4-861f-489d-973c-9df514362578"
      },
      "execution_count": 6,
      "outputs": [
        {
          "output_type": "execute_result",
          "data": {
            "text/plain": [
              "'\\nThe level at which you measure a variable determines how you can analyze your data.\\n\\nDepending on the level of measurement, you can perform different descriptive statistics to get an overall summary of your data and inferential statistics to see if your results support or refute your hypothesis.\\n\\nNominal level example:\\nWe can calculate the frequency or percentage of students who prefer each color and create a bar chart to visualize the distribution of favorite colors. \\nHowever, it would not be meaningful to calculate the average or mean of these categories.\\n\\nInterval level example:\\nWe can calculate the mean satisfaction level of the students based on their ratings (1 to 5) since the intervals between the ratings are equal.\\nHowever, we should avoid calculating the difference between two satisfaction levels (e.g., a student with a rating of 4 is not \"twice\" as satisfied as a student with a rating of 2).\\n\\nRatio level example:\\nWe can calculate the mean height of the students in centimeters, as well as other descriptive statistics like the median and standard deviation. \\nFurthermore, we can perform more advanced analyses like correlations and regression using height as a predictor variable.'"
            ],
            "application/vnd.google.colaboratory.intrinsic+json": {
              "type": "string"
            }
          },
          "metadata": {},
          "execution_count": 6
        }
      ]
    },
    {
      "cell_type": "code",
      "source": [
        "# Q7. How nominal data type is different from ordinal data type.\n",
        "\n",
        "# ANS\n",
        "'''\n",
        "While Nominal Data is classified without any intrinsic ordering or rank, Ordinal Data has some predetermined or natural order.\n",
        "Nominal data is qualitative or categorical data, while Ordinal data is considered “in-between” qualitative and quantitative data.\n",
        "\n",
        "Nominal data can be shown in pie chart, bar chart.\n",
        "Ordinal data can't shown in pie chart, it shown in column chart.\n",
        "'''"
      ],
      "metadata": {
        "colab": {
          "base_uri": "https://localhost:8080/",
          "height": 70
        },
        "id": "0z26CKRHtSTA",
        "outputId": "6b69f91a-06bb-47dc-d9fa-3ccafccf04b5"
      },
      "execution_count": 7,
      "outputs": [
        {
          "output_type": "execute_result",
          "data": {
            "text/plain": [
              "\"\\nWhile Nominal Data is classified without any intrinsic ordering or rank, Ordinal Data has some predetermined or natural order.\\nNominal data is qualitative or categorical data, while Ordinal data is considered “in-between” qualitative and quantitative data.\\n\\nNominal data can be shown in pie chart, bar chart.\\nOrdinal data can't shown in pie chart, it shown in column chart.\\n\""
            ],
            "application/vnd.google.colaboratory.intrinsic+json": {
              "type": "string"
            }
          },
          "metadata": {},
          "execution_count": 7
        }
      ]
    },
    {
      "cell_type": "code",
      "source": [
        "# Q8. Which type of plot can be used to display data in terms of range?\n",
        "\n",
        "# ANS\n",
        "'''\n",
        "BOX PLOT\n",
        "\n",
        "'''"
      ],
      "metadata": {
        "colab": {
          "base_uri": "https://localhost:8080/",
          "height": 35
        },
        "id": "aVb8e_IWxYVf",
        "outputId": "26fad625-c9ce-4c1d-c107-4915ac5362e5"
      },
      "execution_count": 8,
      "outputs": [
        {
          "output_type": "execute_result",
          "data": {
            "text/plain": [
              "'\\nBOX PLOT\\n\\n'"
            ],
            "application/vnd.google.colaboratory.intrinsic+json": {
              "type": "string"
            }
          },
          "metadata": {},
          "execution_count": 8
        }
      ]
    },
    {
      "cell_type": "code",
      "source": [
        "# Q9. Describe the difference between descriptive and inferential statistics. Give an example of each type of statistics and explain how they are used.\n",
        "\n",
        "# ANS\n",
        "'''\n",
        "Descriptive statistics focus on describing the visible characteristics of a dataset (a population or sample).\n",
        "\n",
        "Meanwhile, inferential statistics focus on making predictions or generalizations about a larger dataset, based on a sample of those data.\n",
        "\n",
        "Sure! Here's a short example of descriptive and inferential statistics:\n",
        "\n",
        "Example:\n",
        "\n",
        "1. Descriptive Statistics:\n",
        "Suppose a teacher wants to understand the performance of her students in a math test. She records the scores (out of 100) of 30 students.\n",
        "The descriptive statistics in this case would involve calculating the mean, median,\n",
        "and standard deviation of the test scores to understand the central tendency and variability of the performance.\n",
        "For example:\n",
        "- Mean score: 75\n",
        "- Median score: 78\n",
        "- Standard deviation: 10\n",
        "\n",
        "2. Inferential Statistics:\n",
        "Continuing with the same example, the teacher may want to make inferences about the entire class's performance based on the sample of 30 students.\n",
        "To do this, she could calculate a confidence interval for the average test score or conduct a hypothesis test to see if the class's average score is significantly different from a national average.\n",
        "Suppose the teacher calculates a 95% confidence interval for the class's average score (mean ± 2 standard errors) as 70 to 80.\n",
        "This interval helps her infer that she is 95% confident that the average score of the whole class lies between 70 and 80.\n",
        "\n",
        "In this example,\n",
        "descriptive statistics summarize the performance of the 30 students in the math test,\n",
        "while inferential statistics allow the teacher to draw conclusions and make predictions about the entire class's performance based on the sample data.\n",
        "'''\n"
      ],
      "metadata": {
        "colab": {
          "base_uri": "https://localhost:8080/",
          "height": 140
        },
        "id": "2LQngO4O_Wy9",
        "outputId": "62a53d0e-2d2e-4d6c-e3b4-6f1706fe7c0f"
      },
      "execution_count": 9,
      "outputs": [
        {
          "output_type": "execute_result",
          "data": {
            "text/plain": [
              "\"\\nDescriptive statistics focus on describing the visible characteristics of a dataset (a population or sample).\\n\\nMeanwhile, inferential statistics focus on making predictions or generalizations about a larger dataset, based on a sample of those data.\\n\\nSure! Here's a short example of descriptive and inferential statistics:\\n\\nExample:\\n\\n1. Descriptive Statistics:\\nSuppose a teacher wants to understand the performance of her students in a math test. She records the scores (out of 100) of 30 students. \\nThe descriptive statistics in this case would involve calculating the mean, median, \\nand standard deviation of the test scores to understand the central tendency and variability of the performance. \\nFor example:\\n- Mean score: 75\\n- Median score: 78\\n- Standard deviation: 10\\n\\n2. Inferential Statistics:\\nContinuing with the same example, the teacher may want to make inferences about the entire class's performance based on the sample of 30 students. \\nTo do this, she could calculate a confidence interval for the average test score or conduct a hypothesis test to see if the class's average score is significantly different from a national average. \\nSuppose the teacher calculates a 95% confidence interval for the class's average score (mean ± 2 standard errors) as 70 to 80. \\nThis interval helps her infer that she is 95% confident that the average score of the whole class lies between 70 and 80.\\n\\nIn this example, \\ndescriptive statistics summarize the performance of the 30 students in the math test, \\nwhile inferential statistics allow the teacher to draw conclusions and make predictions about the entire class's performance based on the sample data.\\n\""
            ],
            "application/vnd.google.colaboratory.intrinsic+json": {
              "type": "string"
            }
          },
          "metadata": {},
          "execution_count": 9
        }
      ]
    },
    {
      "cell_type": "code",
      "source": [
        "# Q10. What are some common measures of central tendency and variability used in statistics? Explain how each measure can be used to describe a dataset.\n",
        "\n",
        "# ANS\n",
        "'''\n",
        "1) Common measures of Central Tendency : (Mean,Median,Mode)\n",
        "  i)mean is used to measure the average of the dataset,\n",
        "  ii)Median is used to measure the it is the middle number in a sorted ascending or descending list of dataset,\n",
        "  iii)Mode is used to measure the number in a dataset of numbers that appears the most often.\n",
        "\n",
        "2) Common measures of Central Tendency : (Variance,Standard Deviation)\n",
        "  i)Variance is used to measure the statistical measurement of the spread between numbers in a dataset.\n",
        "  ii)Standard Deviation is a measure which shows how much variation (such as spread, dispersion, spread,) from the mean exists.\n",
        "\n",
        "'''"
      ],
      "metadata": {
        "colab": {
          "base_uri": "https://localhost:8080/",
          "height": 87
        },
        "id": "PmRHFro2A5ck",
        "outputId": "7eb739d0-4ea3-4bfb-8c1a-1cb06183ed6b"
      },
      "execution_count": 10,
      "outputs": [
        {
          "output_type": "execute_result",
          "data": {
            "text/plain": [
              "'\\n1) Common measures of Central Tendency : (Mean,Median,Mode)\\n  i)mean is used to measure the average of the dataset,\\n  ii)Median is used to measure the it is the middle number in a sorted ascending or descending list of dataset,\\n  iii)Mode is used to measure the number in a dataset of numbers that appears the most often.\\n\\n2) Common measures of Central Tendency : (Variance,Standard Deviation)\\n  i)Variance is used to measure the statistical measurement of the spread between numbers in a dataset.\\n  ii)Standard Deviation is a measure which shows how much variation (such as spread, dispersion, spread,) from the mean exists.\\n\\n'"
            ],
            "application/vnd.google.colaboratory.intrinsic+json": {
              "type": "string"
            }
          },
          "metadata": {},
          "execution_count": 10
        }
      ]
    }
  ]
}